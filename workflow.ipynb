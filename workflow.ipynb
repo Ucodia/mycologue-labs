{
 "cells": [
  {
   "cell_type": "markdown",
   "id": "927f896a",
   "metadata": {},
   "source": [
    "# Mycologue Labs - Image to 3D workflow\n",
    "\n",
    "The following workflow demonstrates how to turn a folder of images of a mushroom specimen into a high fidelity 3D model.\n",
    "\n",
    "This workflow does not include the processing of RAW images to color corrected JPG images, which is highly recommended for quality 3D model textures."
   ]
  },
  {
   "cell_type": "code",
   "execution_count": null,
   "id": "a9db1c4d",
   "metadata": {},
   "outputs": [],
   "source": [
    "# define the location of your image input directory\n",
    "project_name = '20241011-1408-admirable-bolete'\n",
    "input_dir = f'photos/{project_name}'"
   ]
  },
  {
   "cell_type": "code",
   "execution_count": null,
   "id": "b5f3e862",
   "metadata": {},
   "outputs": [],
   "source": [
    "# generate masks for images\n",
    "!python create-masks.py --input {input_dir} --overwrite"
   ]
  },
  {
   "cell_type": "code",
   "execution_count": null,
   "id": "4117d212",
   "metadata": {},
   "outputs": [],
   "source": [
    "# create realityscan project and export 3d model\n",
    "!python create-models.py --input {input_dir}"
   ]
  }
 ],
 "metadata": {
  "kernelspec": {
   "display_name": ".venv (3.13.7)",
   "language": "python",
   "name": "python3"
  },
  "language_info": {
   "codemirror_mode": {
    "name": "ipython",
    "version": 3
   },
   "file_extension": ".py",
   "mimetype": "text/x-python",
   "name": "python",
   "nbconvert_exporter": "python",
   "pygments_lexer": "ipython3",
   "version": "3.13.7"
  }
 },
 "nbformat": 4,
 "nbformat_minor": 5
}
