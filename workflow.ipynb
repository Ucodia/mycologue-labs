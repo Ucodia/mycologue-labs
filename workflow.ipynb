{
 "cells": [
  {
   "cell_type": "markdown",
   "id": "927f896a",
   "metadata": {},
   "source": [
    "# Mycologue Labs - Image to 3D workflow\n",
    "\n",
    "The following workflow demonstrates how to turn mulitple directories of images of a mushroom specimen into a high fidelity 3D models.\n",
    "\n",
    "This workflow does not include the processing of RAW images to color corrected JPG images, which is highly recommended for quality 3D model textures."
   ]
  },
  {
   "cell_type": "code",
   "execution_count": null,
   "id": "a9db1c4d",
   "metadata": {},
   "outputs": [],
   "source": [
    "# define the locations of each image directory to process\n",
    "input_dirs = ['photos/20241011-1408-admirable-bolete']\n",
    "\n",
    "# import os\n",
    "# input_dirs = [os.path.join('photos', d) for d in os.listdir('photos') if os.path.isdir(os.path.join('photos', d))]"
   ]
  },
  {
   "cell_type": "code",
   "execution_count": null,
   "id": "b5f3e862",
   "metadata": {},
   "outputs": [],
   "source": [
    "# generate masks for images\n",
    "for input_dir in input_dirs:\n",
    "    !python create-masks.py --input {input_dir}"
   ]
  },
  {
   "cell_type": "code",
   "execution_count": null,
   "id": "4117d212",
   "metadata": {},
   "outputs": [],
   "source": [
    "# create realityscan project and export 3d model\n",
    "for input_dir in input_dirs:\n",
    "    !python create-models.py --input {input_dir}"
   ]
  }
 ],
 "metadata": {
  "kernelspec": {
   "display_name": ".venv (3.13.7)",
   "language": "python",
   "name": "python3"
  },
  "language_info": {
   "codemirror_mode": {
    "name": "ipython",
    "version": 3
   },
   "file_extension": ".py",
   "mimetype": "text/x-python",
   "name": "python",
   "nbconvert_exporter": "python",
   "pygments_lexer": "ipython3",
   "version": "3.13.7"
  }
 },
 "nbformat": 4,
 "nbformat_minor": 5
}
